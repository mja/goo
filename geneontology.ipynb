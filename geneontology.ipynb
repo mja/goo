{
 "cells": [
  {
   "cell_type": "markdown",
   "metadata": {},
   "source": [
    "# Gene Ontology Network\n",
    "\n",
    "Download the [Gene Ontology](http://geneontology.org/docs/download-ontology/) and convert it into a network graph for inspection, visualisation, and hypothesis generation."
   ]
  },
  {
   "cell_type": "markdown",
   "metadata": {},
   "source": [
    "## Downloads\n",
    "\n",
    "Download the core gene ontology in [OBO](http://owlcollab.github.io/oboformat/doc/obo-syntax.html) format"
   ]
  },
  {
   "cell_type": "code",
   "execution_count": 5,
   "metadata": {
    "vscode": {
     "languageId": "shellscript"
    }
   },
   "outputs": [
    {
     "name": "stderr",
     "output_type": "stream",
     "text": [
      "  % Total    % Received % Xferd  Average Speed   Time    Time     Time  Current\n",
      "                                 Dload  Upload   Total   Spent    Left  Speed\n",
      "100 32.3M  100 32.3M    0     0  8306k      0  0:00:03  0:00:03 --:--:-- 8304k\n"
     ]
    }
   ],
   "source": [
    "%%sh\n",
    "# get the core gene ontology in OBO format\n",
    "curl -O \"http://current.geneontology.org/ontology/go.obo\""
   ]
  },
  {
   "cell_type": "markdown",
   "metadata": {},
   "source": [
    "Download the human annotations in [GAF](http://geneontology.org/docs/go-annotation-file-gaf-format-2.2/) format."
   ]
  },
  {
   "cell_type": "code",
   "execution_count": 10,
   "metadata": {
    "vscode": {
     "languageId": "shellscript"
    }
   },
   "outputs": [
    {
     "name": "stderr",
     "output_type": "stream",
     "text": [
      "  % Total    % Received % Xferd  Average Speed   Time    Time     Time  Current\n",
      "                                 Dload  Upload   Total   Spent    Left  Speed\n",
      "100 11.3M  100 11.3M    0     0  6478k      0  0:00:01  0:00:01 --:--:-- 6474k\n",
      "  % Total    % Received % Xferd  Average Speed   Time    Time     Time  Current\n",
      "                                 Dload  Upload   Total   Spent    Left  Speed\n",
      "100 55972  100 55972    0     0   942k      0 --:--:-- --:--:-- --:--:--  942k\n",
      "  % Total    % Received % Xferd  Average Speed   Time    Time     Time  Current\n",
      "                                 Dload  Upload   Total   Spent    Left  Speed\n",
      "100 2566k  100 2566k    0     0  4526k      0 --:--:-- --:--:-- --:--:-- 4518k\n",
      "  % Total    % Received % Xferd  Average Speed   Time    Time     Time  Current\n",
      "                                 Dload  Upload   Total   Spent    Left  Speed\n",
      "100  496k  100  496k    0     0  1737k      0 --:--:-- --:--:-- --:--:-- 1737k\n"
     ]
    }
   ],
   "source": [
    "%%sh\n",
    "curl -O \"http://current.geneontology.org/annotations/goa_human.gaf.gz\"\n",
    "curl -O \"http://current.geneontology.org/annotations/goa_human_complex.gaf.gz\"\n",
    "curl -O \"http://current.geneontology.org/annotations/goa_human_isoform.gaf.gz\"\n",
    "curl -O \"http://current.geneontology.org/annotations/goa_human_rna.gaf.gz\""
   ]
  },
  {
   "cell_type": "markdown",
   "metadata": {},
   "source": [
    "## Ontology\n",
    "\n",
    "Load the OBO file"
   ]
  },
  {
   "cell_type": "code",
   "execution_count": 81,
   "metadata": {},
   "outputs": [],
   "source": [
    "import pronto\n",
    "import pandas as pd\n",
    "go = pronto.Ontology(\"go.obo\")"
   ]
  },
  {
   "cell_type": "markdown",
   "metadata": {},
   "source": [
    "Get non-obsolete terms"
   ]
  },
  {
   "cell_type": "code",
   "execution_count": 182,
   "metadata": {},
   "outputs": [],
   "source": [
    "terms = [term for term in go.terms() if not term.obsolete]"
   ]
  },
  {
   "cell_type": "markdown",
   "metadata": {},
   "source": [
    "Get the GO id, name, and namespace of all terms and turn them into a data frame."
   ]
  },
  {
   "cell_type": "code",
   "execution_count": 280,
   "metadata": {},
   "outputs": [
    {
     "data": {
      "text/html": [
       "<div>\n",
       "<style scoped>\n",
       "    .dataframe tbody tr th:only-of-type {\n",
       "        vertical-align: middle;\n",
       "    }\n",
       "\n",
       "    .dataframe tbody tr th {\n",
       "        vertical-align: top;\n",
       "    }\n",
       "\n",
       "    .dataframe thead th {\n",
       "        text-align: right;\n",
       "    }\n",
       "</style>\n",
       "<table border=\"1\" class=\"dataframe\">\n",
       "  <thead>\n",
       "    <tr style=\"text-align: right;\">\n",
       "      <th></th>\n",
       "      <th>id</th>\n",
       "      <th>name</th>\n",
       "      <th>namespace</th>\n",
       "    </tr>\n",
       "  </thead>\n",
       "  <tbody>\n",
       "    <tr>\n",
       "      <th>0</th>\n",
       "      <td>GO:0000001</td>\n",
       "      <td>mitochondrion inheritance</td>\n",
       "      <td>biological_process</td>\n",
       "    </tr>\n",
       "    <tr>\n",
       "      <th>1</th>\n",
       "      <td>GO:0000002</td>\n",
       "      <td>mitochondrial genome maintenance</td>\n",
       "      <td>biological_process</td>\n",
       "    </tr>\n",
       "    <tr>\n",
       "      <th>2</th>\n",
       "      <td>GO:0000003</td>\n",
       "      <td>reproduction</td>\n",
       "      <td>biological_process</td>\n",
       "    </tr>\n",
       "    <tr>\n",
       "      <th>3</th>\n",
       "      <td>GO:0000006</td>\n",
       "      <td>high-affinity zinc transmembrane transporter a...</td>\n",
       "      <td>molecular_function</td>\n",
       "    </tr>\n",
       "    <tr>\n",
       "      <th>4</th>\n",
       "      <td>GO:0000007</td>\n",
       "      <td>low-affinity zinc ion transmembrane transporte...</td>\n",
       "      <td>molecular_function</td>\n",
       "    </tr>\n",
       "    <tr>\n",
       "      <th>...</th>\n",
       "      <td>...</td>\n",
       "      <td>...</td>\n",
       "      <td>...</td>\n",
       "    </tr>\n",
       "    <tr>\n",
       "      <th>43694</th>\n",
       "      <td>GO:1905213</td>\n",
       "      <td>negative regulation of mitotic chromosome cond...</td>\n",
       "      <td>biological_process</td>\n",
       "    </tr>\n",
       "    <tr>\n",
       "      <th>43695</th>\n",
       "      <td>GO:1905214</td>\n",
       "      <td>regulation of RNA binding</td>\n",
       "      <td>biological_process</td>\n",
       "    </tr>\n",
       "    <tr>\n",
       "      <th>43696</th>\n",
       "      <td>GO:1905215</td>\n",
       "      <td>negative regulation of RNA binding</td>\n",
       "      <td>biological_process</td>\n",
       "    </tr>\n",
       "    <tr>\n",
       "      <th>43697</th>\n",
       "      <td>GO:1905216</td>\n",
       "      <td>positive regulation of RNA binding</td>\n",
       "      <td>biological_process</td>\n",
       "    </tr>\n",
       "    <tr>\n",
       "      <th>43698</th>\n",
       "      <td>GO:1905217</td>\n",
       "      <td>response to astaxanthin</td>\n",
       "      <td>biological_process</td>\n",
       "    </tr>\n",
       "  </tbody>\n",
       "</table>\n",
       "<p>43699 rows × 3 columns</p>\n",
       "</div>"
      ],
      "text/plain": [
       "               id                                               name  \\\n",
       "0      GO:0000001                          mitochondrion inheritance   \n",
       "1      GO:0000002                   mitochondrial genome maintenance   \n",
       "2      GO:0000003                                       reproduction   \n",
       "3      GO:0000006  high-affinity zinc transmembrane transporter a...   \n",
       "4      GO:0000007  low-affinity zinc ion transmembrane transporte...   \n",
       "...           ...                                                ...   \n",
       "43694  GO:1905213  negative regulation of mitotic chromosome cond...   \n",
       "43695  GO:1905214                          regulation of RNA binding   \n",
       "43696  GO:1905215                 negative regulation of RNA binding   \n",
       "43697  GO:1905216                 positive regulation of RNA binding   \n",
       "43698  GO:1905217                            response to astaxanthin   \n",
       "\n",
       "                namespace  \n",
       "0      biological_process  \n",
       "1      biological_process  \n",
       "2      biological_process  \n",
       "3      molecular_function  \n",
       "4      molecular_function  \n",
       "...                   ...  \n",
       "43694  biological_process  \n",
       "43695  biological_process  \n",
       "43696  biological_process  \n",
       "43697  biological_process  \n",
       "43698  biological_process  \n",
       "\n",
       "[43699 rows x 3 columns]"
      ]
     },
     "execution_count": 280,
     "metadata": {},
     "output_type": "execute_result"
    }
   ],
   "source": [
    "\n",
    "go_terms = pd.DataFrame([[term.id, term.name, term.namespace] for term in terms], columns=['id', 'name', 'namespace'])\n",
    "go_terms"
   ]
  },
  {
   "cell_type": "markdown",
   "metadata": {},
   "source": [
    "Get a list of `is_a` relationships from superclasses."
   ]
  },
  {
   "cell_type": "code",
   "execution_count": 282,
   "metadata": {},
   "outputs": [
    {
     "data": {
      "text/html": [
       "<div>\n",
       "<style scoped>\n",
       "    .dataframe tbody tr th:only-of-type {\n",
       "        vertical-align: middle;\n",
       "    }\n",
       "\n",
       "    .dataframe tbody tr th {\n",
       "        vertical-align: top;\n",
       "    }\n",
       "\n",
       "    .dataframe thead th {\n",
       "        text-align: right;\n",
       "    }\n",
       "</style>\n",
       "<table border=\"1\" class=\"dataframe\">\n",
       "  <thead>\n",
       "    <tr style=\"text-align: right;\">\n",
       "      <th></th>\n",
       "      <th>Source</th>\n",
       "      <th>Target</th>\n",
       "      <th>relationship</th>\n",
       "    </tr>\n",
       "  </thead>\n",
       "  <tbody>\n",
       "    <tr>\n",
       "      <th>0</th>\n",
       "      <td>GO:0000001</td>\n",
       "      <td>GO:0048308</td>\n",
       "      <td>is_a</td>\n",
       "    </tr>\n",
       "    <tr>\n",
       "      <th>1</th>\n",
       "      <td>GO:0000001</td>\n",
       "      <td>GO:0048311</td>\n",
       "      <td>is_a</td>\n",
       "    </tr>\n",
       "    <tr>\n",
       "      <th>0</th>\n",
       "      <td>GO:0000002</td>\n",
       "      <td>GO:0007005</td>\n",
       "      <td>is_a</td>\n",
       "    </tr>\n",
       "    <tr>\n",
       "      <th>0</th>\n",
       "      <td>GO:0000003</td>\n",
       "      <td>GO:0008150</td>\n",
       "      <td>is_a</td>\n",
       "    </tr>\n",
       "    <tr>\n",
       "      <th>0</th>\n",
       "      <td>GO:0000006</td>\n",
       "      <td>GO:0005385</td>\n",
       "      <td>is_a</td>\n",
       "    </tr>\n",
       "    <tr>\n",
       "      <th>...</th>\n",
       "      <td>...</td>\n",
       "      <td>...</td>\n",
       "      <td>...</td>\n",
       "    </tr>\n",
       "    <tr>\n",
       "      <th>0</th>\n",
       "      <td>GO:1905215</td>\n",
       "      <td>GO:0051100</td>\n",
       "      <td>is_a</td>\n",
       "    </tr>\n",
       "    <tr>\n",
       "      <th>1</th>\n",
       "      <td>GO:1905215</td>\n",
       "      <td>GO:1905214</td>\n",
       "      <td>is_a</td>\n",
       "    </tr>\n",
       "    <tr>\n",
       "      <th>0</th>\n",
       "      <td>GO:1905216</td>\n",
       "      <td>GO:0051099</td>\n",
       "      <td>is_a</td>\n",
       "    </tr>\n",
       "    <tr>\n",
       "      <th>1</th>\n",
       "      <td>GO:1905216</td>\n",
       "      <td>GO:1905214</td>\n",
       "      <td>is_a</td>\n",
       "    </tr>\n",
       "    <tr>\n",
       "      <th>0</th>\n",
       "      <td>GO:1905217</td>\n",
       "      <td>GO:0033993</td>\n",
       "      <td>is_a</td>\n",
       "    </tr>\n",
       "  </tbody>\n",
       "</table>\n",
       "<p>70510 rows × 3 columns</p>\n",
       "</div>"
      ],
      "text/plain": [
       "        Source      Target relationship\n",
       "0   GO:0000001  GO:0048308         is_a\n",
       "1   GO:0000001  GO:0048311         is_a\n",
       "0   GO:0000002  GO:0007005         is_a\n",
       "0   GO:0000003  GO:0008150         is_a\n",
       "0   GO:0000006  GO:0005385         is_a\n",
       "..         ...         ...          ...\n",
       "0   GO:1905215  GO:0051100         is_a\n",
       "1   GO:1905215  GO:1905214         is_a\n",
       "0   GO:1905216  GO:0051099         is_a\n",
       "1   GO:1905216  GO:1905214         is_a\n",
       "0   GO:1905217  GO:0033993         is_a\n",
       "\n",
       "[70510 rows x 3 columns]"
      ]
     },
     "execution_count": 282,
     "metadata": {},
     "output_type": "execute_result"
    }
   ],
   "source": [
    "go_is_a = pd.concat([pd.DataFrame([[term.id, t.id, 'is_a'] for t in term.superclasses(1, with_self=False)], columns=['Source', 'Target', 'relationship']) for term in terms])\n",
    "go_is_a"
   ]
  },
  {
   "cell_type": "markdown",
   "metadata": {},
   "source": [
    "Get terms that have relationships"
   ]
  },
  {
   "cell_type": "code",
   "execution_count": 223,
   "metadata": {},
   "outputs": [],
   "source": [
    "terms_with_relationships = [term for term in terms if len(term.relationships.items()) > 0]"
   ]
  },
  {
   "cell_type": "markdown",
   "metadata": {},
   "source": [
    "Build data frames for each relationship of each term, then concatenate them together"
   ]
  },
  {
   "cell_type": "code",
   "execution_count": 309,
   "metadata": {},
   "outputs": [],
   "source": [
    "rels_list = [[pd.DataFrame([[term.id, i[0].name, t.id] for t in i[1]], columns=['Source', 'Target', 'relationship']) for i in term.relationships.items()] for term in terms_with_relationships]\n",
    "# list comprehension creates extra nested list, so strip that out first\n",
    "go_rels = pd.concat([rel[0] for rel in rels_list])"
   ]
  },
  {
   "cell_type": "markdown",
   "metadata": {},
   "source": [
    "Make a single data frame for all the relationships"
   ]
  },
  {
   "cell_type": "code",
   "execution_count": 311,
   "metadata": {},
   "outputs": [
    {
     "data": {
      "text/html": [
       "<div>\n",
       "<style scoped>\n",
       "    .dataframe tbody tr th:only-of-type {\n",
       "        vertical-align: middle;\n",
       "    }\n",
       "\n",
       "    .dataframe tbody tr th {\n",
       "        vertical-align: top;\n",
       "    }\n",
       "\n",
       "    .dataframe thead th {\n",
       "        text-align: right;\n",
       "    }\n",
       "</style>\n",
       "<table border=\"1\" class=\"dataframe\">\n",
       "  <thead>\n",
       "    <tr style=\"text-align: right;\">\n",
       "      <th></th>\n",
       "      <th>Source</th>\n",
       "      <th>Target</th>\n",
       "      <th>relationship</th>\n",
       "    </tr>\n",
       "  </thead>\n",
       "  <tbody>\n",
       "    <tr>\n",
       "      <th>0</th>\n",
       "      <td>GO:0000001</td>\n",
       "      <td>GO:0048308</td>\n",
       "      <td>is_a</td>\n",
       "    </tr>\n",
       "    <tr>\n",
       "      <th>1</th>\n",
       "      <td>GO:0000001</td>\n",
       "      <td>GO:0048311</td>\n",
       "      <td>is_a</td>\n",
       "    </tr>\n",
       "    <tr>\n",
       "      <th>0</th>\n",
       "      <td>GO:0000002</td>\n",
       "      <td>GO:0007005</td>\n",
       "      <td>is_a</td>\n",
       "    </tr>\n",
       "    <tr>\n",
       "      <th>0</th>\n",
       "      <td>GO:0000003</td>\n",
       "      <td>GO:0008150</td>\n",
       "      <td>is_a</td>\n",
       "    </tr>\n",
       "    <tr>\n",
       "      <th>0</th>\n",
       "      <td>GO:0000006</td>\n",
       "      <td>GO:0005385</td>\n",
       "      <td>is_a</td>\n",
       "    </tr>\n",
       "    <tr>\n",
       "      <th>...</th>\n",
       "      <td>...</td>\n",
       "      <td>...</td>\n",
       "      <td>...</td>\n",
       "    </tr>\n",
       "    <tr>\n",
       "      <th>0</th>\n",
       "      <td>GO:1905212</td>\n",
       "      <td>positively regulates</td>\n",
       "      <td>GO:1990956</td>\n",
       "    </tr>\n",
       "    <tr>\n",
       "      <th>0</th>\n",
       "      <td>GO:1905213</td>\n",
       "      <td>negatively regulates</td>\n",
       "      <td>GO:0007076</td>\n",
       "    </tr>\n",
       "    <tr>\n",
       "      <th>0</th>\n",
       "      <td>GO:1905214</td>\n",
       "      <td>regulates</td>\n",
       "      <td>GO:0003723</td>\n",
       "    </tr>\n",
       "    <tr>\n",
       "      <th>0</th>\n",
       "      <td>GO:1905215</td>\n",
       "      <td>negatively regulates</td>\n",
       "      <td>GO:0003723</td>\n",
       "    </tr>\n",
       "    <tr>\n",
       "      <th>0</th>\n",
       "      <td>GO:1905216</td>\n",
       "      <td>positively regulates</td>\n",
       "      <td>GO:0003723</td>\n",
       "    </tr>\n",
       "  </tbody>\n",
       "</table>\n",
       "<p>88909 rows × 3 columns</p>\n",
       "</div>"
      ],
      "text/plain": [
       "        Source                Target relationship\n",
       "0   GO:0000001            GO:0048308         is_a\n",
       "1   GO:0000001            GO:0048311         is_a\n",
       "0   GO:0000002            GO:0007005         is_a\n",
       "0   GO:0000003            GO:0008150         is_a\n",
       "0   GO:0000006            GO:0005385         is_a\n",
       "..         ...                   ...          ...\n",
       "0   GO:1905212  positively regulates   GO:1990956\n",
       "0   GO:1905213  negatively regulates   GO:0007076\n",
       "0   GO:1905214             regulates   GO:0003723\n",
       "0   GO:1905215  negatively regulates   GO:0003723\n",
       "0   GO:1905216  positively regulates   GO:0003723\n",
       "\n",
       "[88909 rows x 3 columns]"
      ]
     },
     "execution_count": 311,
     "metadata": {},
     "output_type": "execute_result"
    }
   ],
   "source": [
    "go_relationships = pd.concat([go_is_a, go_rels])\n",
    "go_relationships"
   ]
  },
  {
   "cell_type": "code",
   "execution_count": 313,
   "metadata": {},
   "outputs": [],
   "source": [
    "go_terms.to_csv('go.terms.csv', index=False)\n",
    "go_relationships.to_csv('go.relationships.csv', index=False)"
   ]
  }
 ],
 "metadata": {
  "interpreter": {
   "hash": "276e7c24eecb68aab8c6a010fd6380d45db7c149b08530e41f4a0be67fc4713a"
  },
  "kernelspec": {
   "display_name": "Python 3.10.4 ('go')",
   "language": "python",
   "name": "python3"
  },
  "language_info": {
   "codemirror_mode": {
    "name": "ipython",
    "version": 3
   },
   "file_extension": ".py",
   "mimetype": "text/x-python",
   "name": "python",
   "nbconvert_exporter": "python",
   "pygments_lexer": "ipython3",
   "version": "3.10.4"
  },
  "orig_nbformat": 4
 },
 "nbformat": 4,
 "nbformat_minor": 2
}
